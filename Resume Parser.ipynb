{
 "cells": [
  {
   "cell_type": "markdown",
   "metadata": {},
   "source": [
    "# 4. Job Description and Resume Parser"
   ]
  },
  {
   "cell_type": "markdown",
   "metadata": {},
   "source": [
    "## 4.1 Parsing the Resume"
   ]
  },
  {
   "cell_type": "code",
   "execution_count": 35,
   "metadata": {},
   "outputs": [],
   "source": [
    "\n",
    "\n",
    "#!pip install --user https://github.com/explosion/spacy-models/releases/download/en_core_web_sm-2.3.1/en_core_web_sm-2.3.1.tar.gz\n",
    "\n",
    "#!pip install --user pyresparser\n",
    "\n",
    "#!pip install --user nltk\n",
    "\n",
    "#!python -m spacy download en_core_web_sm --user\n",
    "#nltk.download('stopwords')\n",
    "\n",
    "#!python -m spacy validate "
   ]
  },
  {
   "cell_type": "code",
   "execution_count": 12,
   "metadata": {},
   "outputs": [],
   "source": [
    "from pyresparser import ResumeParser\n"
   ]
  },
  {
   "cell_type": "code",
   "execution_count": 22,
   "metadata": {},
   "outputs": [],
   "source": [
    "k=\"C:/Users/Srikar/Desktop/Study Stuff/Personal Projects/Candidate-Recommendation System/Srikar_resume.pdf\""
   ]
  },
  {
   "cell_type": "code",
   "execution_count": 23,
   "metadata": {},
   "outputs": [],
   "source": [
    "data = ResumeParser(k).get_extracted_data()\n"
   ]
  },
  {
   "cell_type": "code",
   "execution_count": 24,
   "metadata": {},
   "outputs": [
    {
     "name": "stdout",
     "output_type": "stream",
     "text": [
      "{'name': 'Srikar R', 'email': 'rsrikar1509@gmail.com', 'mobile_number': '8861475511', 'skills': ['Analytics', 'Analysis', 'Mysql', 'Pivot tables', 'Pivot', 'Transactions', 'Data collection', 'Seaborn', 'Spreadsheets', 'Queries', 'Programming', 'Pandas', 'Ms excel', 'Mathematics', 'Segmentation', 'Statistics', 'Microsoft excel', 'Data analytics', 'Analyze', 'Money', 'Python', 'Budget', 'Economics', 'Research', 'Sql', 'Math', 'R', 'Plan', 'Analytical', 'Numpy', 'Matplotlib', 'Ui', 'Technical', 'Excel', 'Reports', 'Writing'], 'college_name': None, 'degree': ['Bachelor of Science in Economics, \\nMathematics and Statistics'], 'designation': ['Data Analyst', 'Intern Analyst'], 'experience': ['Intern Analyst', 'Tatvam Analytics', \"Mar '20- May '20\", 'Bengaluru, IN', 'Summarized data using Microsoft Excel Pivot Tables for generating reports for the', 'team', 'Prepared charts and informative dashboards using Microsoft Excel to deliver', 'findings and inferences. Responsibilities included collecting data, cleaning and', 'aggregating data ,analyze data and writing reports', 'Helped identify and remove unnecessary features of the product and help improve', 'the UI of the product'], 'company_names': ['Tatvam Analytics'], 'no_of_pages': 1, 'total_experience': 0.0}\n"
     ]
    }
   ],
   "source": [
    "print(data)"
   ]
  },
  {
   "cell_type": "code",
   "execution_count": 40,
   "metadata": {},
   "outputs": [
    {
     "data": {
      "text/plain": [
       "dict_keys(['name', 'email', 'mobile_number', 'skills', 'college_name', 'degree', 'designation', 'experience', 'company_names', 'no_of_pages', 'total_experience'])"
      ]
     },
     "execution_count": 40,
     "metadata": {},
     "output_type": "execute_result"
    }
   ],
   "source": [
    "data.keys()"
   ]
  },
  {
   "cell_type": "code",
   "execution_count": 41,
   "metadata": {},
   "outputs": [
    {
     "data": {
      "text/plain": [
       "['Bachelor of Science in Economics, \\nMathematics and Statistics']"
      ]
     },
     "execution_count": 41,
     "metadata": {},
     "output_type": "execute_result"
    }
   ],
   "source": [
    "data['degree']"
   ]
  },
  {
   "cell_type": "code",
   "execution_count": null,
   "metadata": {},
   "outputs": [],
   "source": []
  },
  {
   "cell_type": "markdown",
   "metadata": {},
   "source": [
    "## 4.2 Parsing the job descrption"
   ]
  },
  {
   "cell_type": "code",
   "execution_count": 2,
   "metadata": {},
   "outputs": [
    {
     "name": "stdout",
     "output_type": "stream",
     "text": [
      "Collecting python-docx\n",
      "  Downloading python-docx-0.8.11.tar.gz (5.6 MB)\n",
      "Requirement already satisfied: lxml>=2.3.2 in c:\\users\\srikar\\anaconda3\\lib\\site-packages (from python-docx) (4.5.0)\n",
      "Building wheels for collected packages: python-docx\n",
      "  Building wheel for python-docx (setup.py): started\n",
      "  Building wheel for python-docx (setup.py): finished with status 'done'\n",
      "  Created wheel for python-docx: filename=python_docx-0.8.11-py3-none-any.whl size=184606 sha256=2fb5049b9e35755dea6b72b0adda3ab698966d69b46482b38480df76f23018c4\n",
      "  Stored in directory: c:\\users\\srikar\\appdata\\local\\pip\\cache\\wheels\\f6\\6f\\b9\\d798122a8b55b74ad30b5f52b01482169b445fbb84a11797a6\n",
      "Successfully built python-docx\n",
      "Installing collected packages: python-docx\n",
      "Successfully installed python-docx-0.8.11\n"
     ]
    }
   ],
   "source": [
    "#!pip install --user python-docx"
   ]
  },
  {
   "cell_type": "code",
   "execution_count": 3,
   "metadata": {},
   "outputs": [],
   "source": [
    "from docx import Document"
   ]
  },
  {
   "cell_type": "code",
   "execution_count": 4,
   "metadata": {},
   "outputs": [],
   "source": [
    "document = Document()"
   ]
  },
  {
   "cell_type": "code",
   "execution_count": 6,
   "metadata": {},
   "outputs": [
    {
     "name": "stdout",
     "output_type": "stream",
     "text": [
      "<class 'str'>\n"
     ]
    }
   ],
   "source": [
    "n=\"\"\"With a startup spirit and 90,000+ curious and courageous minds, we have the expertise to go deep with the world’s biggest brands—and we have fun doing it. Now, we’re calling all you rule-breakers and risk-takers who see the world differently and are bold enough to reinvent it.\n",
    "\n",
    "Transformation happens here. Come, be a part of our exciting journey!\n",
    "\n",
    "Are you the one we are looking for?\n",
    "\n",
    "Inviting applications for the role of Business Analyst, Data Scientist\n",
    "\n",
    "In this role, the focus is to have enterprise-level experience for Machine Learning Model build, validation, scoring, monitoring, etc and do analysis on back-office operations, be able to understand and translate and integrate the analysis from back-office to front-office.\n",
    "\n",
    "Responsibilities\n",
    "\n",
    "To deal with huge data, have a good understanding of data science, and have worked on relational databases.\n",
    "Analyzing data and provide key findings with potential business impact\n",
    "Responsible for Model Build.\n",
    "Selecting features, building and optimizing classifiers using machine learning techniques.\n",
    "Solving problems by applying knowledge of data mining and machine learning.\n",
    "Project Management and Client Interaction.\n",
    "Ensuring Quality through best practices and compliance to the framework, architecture, and coding standards.\n",
    "\n",
    "Qualifications we seek in you!\n",
    "\n",
    "Minimum Qualifications\n",
    "\n",
    "M.A. in Economics or M.S. in Statistics with relevant experience in Data Science/advanced analytics and Practice\n",
    "Mathematics and Statistical Background\n",
    "High level of intellectual curiosity about the Data Science and Analytics\n",
    "Extensive Experience with Analytics products and solutions\n",
    "Prior Experience with the Model build (Python / SQL scripts)\n",
    "Predictive Analytics – Well versed with AI and Machine Learning\n",
    "Good applied statistics skills, such as distributions, statistical testing, regression, etc.\n",
    "Building and implementing models, using/creating algorithms, and creating/running simulations using a variety of Tools\n",
    "Knowledge and experience of tools/techniques: Forecasting, Linear Regression, Logistic Regression, Regularization, Segmentation (Decision Trees, CHAID, CART), Cluster Analysis, Factor Analysis, variable screening, Machine Learning – Random Forest, Gradient Boosting, SVM, XGBoost.\n",
    "\n",
    "Preferred Qualifications\n",
    "\n",
    "Passion for analytics, technology, and a keen learner to stay abreast on what’s latest\n",
    "Ability to inspire and influence change in technology application\n",
    "Ability to work in diverse teams and with multiple stakeholders\n",
    "Conflict management and negotiation skills\n",
    "Skill gap identification and development of our global teams\n",
    "Excellent verbal and written communication skills\"\"\"\n",
    "print(type(n))"
   ]
  },
  {
   "cell_type": "code",
   "execution_count": 7,
   "metadata": {},
   "outputs": [],
   "source": [
    "p = document.add_paragraph(n)"
   ]
  },
  {
   "cell_type": "code",
   "execution_count": 8,
   "metadata": {},
   "outputs": [],
   "source": [
    "document.save('demo.docx')"
   ]
  },
  {
   "cell_type": "code",
   "execution_count": 14,
   "metadata": {},
   "outputs": [],
   "source": [
    "j=\"C:/Users/Srikar/Desktop/Stuff/Freelance/Projects/Candidate-Recommendation System/demo.docx\""
   ]
  },
  {
   "cell_type": "code",
   "execution_count": 15,
   "metadata": {},
   "outputs": [],
   "source": [
    "jd = ResumeParser(j).get_extracted_data()"
   ]
  },
  {
   "cell_type": "code",
   "execution_count": 16,
   "metadata": {},
   "outputs": [
    {
     "name": "stdout",
     "output_type": "stream",
     "text": [
      "{'name': 'With a startup spirit and', 'email': None, 'mobile_number': None, 'skills': ['Analysis', 'Analytics', 'Testing', 'Negotiation', 'Xgboost', 'Machine learning', 'Mining', 'Mathematics', 'Segmentation', 'Algorithms', 'Startup', 'Statistics', 'Project management', 'Ai', 'Predictive analytics', 'Architecture', 'Python', 'Economics', 'Coding', 'Sql', 'Operations', 'Communication', 'Compliance', 'Forecasting'], 'college_name': None, 'degree': None, 'designation': ['Business Analyst'], 'experience': None, 'company_names': None, 'no_of_pages': None, 'total_experience': 0}\n"
     ]
    }
   ],
   "source": [
    "print(jd)"
   ]
  },
  {
   "cell_type": "code",
   "execution_count": 43,
   "metadata": {},
   "outputs": [
    {
     "data": {
      "text/plain": [
       "103"
      ]
     },
     "execution_count": 43,
     "metadata": {},
     "output_type": "execute_result"
    }
   ],
   "source": [
    "jd_list=n.split(' ')\n",
    "len(k)"
   ]
  },
  {
   "cell_type": "markdown",
   "metadata": {},
   "source": [
    "# 5. Making the resume Score"
   ]
  },
  {
   "cell_type": "code",
   "execution_count": 44,
   "metadata": {},
   "outputs": [
    {
     "data": {
      "text/plain": [
       "dict_keys(['name', 'email', 'mobile_number', 'skills', 'college_name', 'degree', 'designation', 'experience', 'company_names', 'no_of_pages', 'total_experience'])"
      ]
     },
     "execution_count": 44,
     "metadata": {},
     "output_type": "execute_result"
    }
   ],
   "source": [
    "data.keys()"
   ]
  },
  {
   "cell_type": "code",
   "execution_count": 25,
   "metadata": {},
   "outputs": [],
   "source": [
    "resume_list=data['skills']+data['degree']+data['designation']+data['experience']+[data['total_experience']]"
   ]
  },
  {
   "cell_type": "code",
   "execution_count": 19,
   "metadata": {},
   "outputs": [],
   "source": [
    "jd_list=jd['skills']+jd['designation']+[jd['total_experience']]"
   ]
  },
  {
   "cell_type": "code",
   "execution_count": 26,
   "metadata": {},
   "outputs": [],
   "source": [
    "res=set(resume_list)\n",
    "jd=set(jd_list)"
   ]
  },
  {
   "cell_type": "code",
   "execution_count": 27,
   "metadata": {},
   "outputs": [
    {
     "data": {
      "text/plain": [
       "34.61538461538461"
      ]
     },
     "execution_count": 27,
     "metadata": {},
     "output_type": "execute_result"
    }
   ],
   "source": [
    "len(jd.intersection(res))/len(jd)*100"
   ]
  },
  {
   "cell_type": "markdown",
   "metadata": {},
   "source": [
    "# 6. Iterating it through multiple files"
   ]
  },
  {
   "cell_type": "code",
   "execution_count": 48,
   "metadata": {},
   "outputs": [],
   "source": [
    "#pip install --user os-sys"
   ]
  },
  {
   "cell_type": "code",
   "execution_count": 49,
   "metadata": {},
   "outputs": [],
   "source": [
    "from os import listdir"
   ]
  },
  {
   "cell_type": "code",
   "execution_count": 65,
   "metadata": {},
   "outputs": [],
   "source": [
    "path=listdir('C:/Users/Srikar/Desktop/Study Stuff/Personal Projects/Candidate-Recommendation System/Resume')"
   ]
  },
  {
   "cell_type": "code",
   "execution_count": 67,
   "metadata": {},
   "outputs": [
    {
     "name": "stdout",
     "output_type": "stream",
     "text": [
      "4\n"
     ]
    }
   ],
   "source": [
    "n=len(path)\n",
    "print(n)"
   ]
  },
  {
   "cell_type": "code",
   "execution_count": 73,
   "metadata": {},
   "outputs": [
    {
     "data": {
      "text/plain": [
       "\"Panna's Resume.pdf\""
      ]
     },
     "execution_count": 73,
     "metadata": {},
     "output_type": "execute_result"
    }
   ],
   "source": [
    "path[0]"
   ]
  },
  {
   "cell_type": "code",
   "execution_count": 74,
   "metadata": {},
   "outputs": [],
   "source": [
    "a=ResumeParser(path[0]).get_extracted_data()\n",
    "b=ResumeParser(path[1]).get_extracted_data()\n",
    "c=ResumeParser(path[2]).get_extracted_data()"
   ]
  },
  {
   "cell_type": "code",
   "execution_count": 75,
   "metadata": {},
   "outputs": [
    {
     "name": "stdout",
     "output_type": "stream",
     "text": [
      "{'name': 'Panna Freestyle', 'email': 'raikycraftgaming@gmail.com', 'mobile_number': None, 'skills': ['System', 'Ai', 'Python'], 'college_name': None, 'degree': ['Study Program \\nInstitution/Place of Education'], 'designation': None, 'experience': [], 'company_names': None, 'no_of_pages': 1, 'total_experience': 0.0}\n"
     ]
    }
   ],
   "source": [
    "print(a)"
   ]
  },
  {
   "cell_type": "code",
   "execution_count": 55,
   "metadata": {
    "collapsed": true
   },
   "outputs": [
    {
     "name": "stdout",
     "output_type": "stream",
     "text": [
      "{'name': 'Srikar R', 'email': 'rsrikar1509@gmail.com', 'mobile_number': '8861475511', 'skills': ['Budget', 'Queries', 'Economics', 'Data collection', 'Analytics', 'Research', 'Reports', 'Mathematics', 'Analysis', 'Matplotlib', 'Programming', 'Analytical', 'Pivot', 'Writing', 'Pivot tables', 'Microsoft excel', 'Pandas', 'Technical', 'Data analytics', 'Analyze', 'Statistics', 'Segmentation', 'Excel', 'Math', 'R', 'Spreadsheets', 'Python', 'Mysql', 'Plan', 'Money', 'Ms excel', 'Sql', 'Seaborn', 'Ui', 'Transactions', 'Numpy'], 'college_name': None, 'degree': ['Bachelor of Science in Economics, \\nMathematics and Statistics'], 'designation': ['Data Analyst', 'Intern Analyst'], 'experience': ['Intern Analyst', 'Tatvam Analytics', \"Mar '20- May '20\", 'Bengaluru, IN', 'Summarized data using Microsoft Excel Pivot Tables for generating reports for the', 'team', 'Prepared charts and informative dashboards using Microsoft Excel to deliver', 'findings and inferences. Responsibilities included collecting data, cleaning and', 'aggregating data ,analyze data and writing reports', 'Helped identify and remove unnecessary features of the product and help improve', 'the UI of the product'], 'company_names': ['Tatvam Analytics'], 'no_of_pages': 1, 'total_experience': 0.0}\n"
     ]
    }
   ],
   "source": [
    "print(b)"
   ]
  },
  {
   "cell_type": "code",
   "execution_count": 56,
   "metadata": {
    "collapsed": true
   },
   "outputs": [
    {
     "name": "stdout",
     "output_type": "stream",
     "text": [
      "{'name': 'Srikar R', 'email': 'rsrikar1509@gmail.com', 'mobile_number': '8861475511', 'skills': ['Budget', 'Queries', 'Economics', 'Data collection', 'Analytics', 'Research', 'Reports', 'Mathematics', 'Analysis', 'Matplotlib', 'Programming', 'Analytical', 'Pivot', 'Writing', 'Pivot tables', 'Microsoft excel', 'Pandas', 'Technical', 'Data analytics', 'Analyze', 'Statistics', 'Segmentation', 'Excel', 'Math', 'R', 'Spreadsheets', 'Python', 'Mysql', 'Plan', 'Money', 'Ms excel', 'Sql', 'Seaborn', 'Ui', 'Transactions', 'Numpy'], 'college_name': None, 'degree': ['Bachelor of Science in Economics, \\nMathematics and Statistics'], 'designation': ['Data Analyst', 'Intern Analyst'], 'experience': ['Intern Analyst', 'Tatvam Analytics', \"Mar '20- May '20\", 'Bengaluru, IN', 'Summarized data using Microsoft Excel Pivot Tables for generating reports for the', 'team', 'Prepared charts and informative dashboards using Microsoft Excel to deliver', 'findings and inferences. Responsibilities included collecting data, cleaning and', 'aggregating data ,analyze data and writing reports', 'Helped identify and remove unnecessary features of the product and help improve', 'the UI of the product'], 'company_names': ['Tatvam Analytics'], 'no_of_pages': 1, 'total_experience': 0.0}\n"
     ]
    }
   ],
   "source": [
    "print(c)"
   ]
  },
  {
   "cell_type": "code",
   "execution_count": 101,
   "metadata": {},
   "outputs": [],
   "source": [
    "resume_list1=a['skills']+a['degree']+a['experience']+[a['total_experience']]+[a['name']]"
   ]
  },
  {
   "cell_type": "code",
   "execution_count": 103,
   "metadata": {},
   "outputs": [],
   "source": [
    "resume_list2=b['skills']+b['degree']+b['designation']+b['experience']+[b['total_experience']]+[b['name']]"
   ]
  },
  {
   "cell_type": "code",
   "execution_count": 111,
   "metadata": {},
   "outputs": [],
   "source": [
    "res1=set(resume_list1)\n",
    "res2=set(resume_list2)\n"
   ]
  },
  {
   "cell_type": "code",
   "execution_count": null,
   "metadata": {},
   "outputs": [],
   "source": [
    "len(jd.intersection(res))/len(jd)*100"
   ]
  },
  {
   "cell_type": "code",
   "execution_count": null,
   "metadata": {},
   "outputs": [],
   "source": []
  }
 ],
 "metadata": {
  "kernelspec": {
   "display_name": "Python 3",
   "language": "python",
   "name": "python3"
  },
  "language_info": {
   "codemirror_mode": {
    "name": "ipython",
    "version": 3
   },
   "file_extension": ".py",
   "mimetype": "text/x-python",
   "name": "python",
   "nbconvert_exporter": "python",
   "pygments_lexer": "ipython3",
   "version": "3.7.6"
  }
 },
 "nbformat": 4,
 "nbformat_minor": 4
}
